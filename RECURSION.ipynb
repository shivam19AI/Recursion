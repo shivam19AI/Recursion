{
 "cells": [
  {
   "cell_type": "markdown",
   "id": "9fbe496a",
   "metadata": {},
   "source": [
    "### iterative vs recursive \n",
    "a*b"
   ]
  },
  {
   "cell_type": "code",
   "execution_count": 2,
   "id": "836ce0a8",
   "metadata": {},
   "outputs": [
    {
     "name": "stdout",
     "output_type": "stream",
     "text": [
      "0 1 2 3 4 "
     ]
    }
   ],
   "source": [
    "for i in range(5):\n",
    "    print(i,end=\" \")"
   ]
  },
  {
   "cell_type": "code",
   "execution_count": 3,
   "id": "c7a2a80f",
   "metadata": {},
   "outputs": [
    {
     "name": "stdout",
     "output_type": "stream",
     "text": [
      "1 2 3 4 "
     ]
    }
   ],
   "source": [
    "for i in range(1,5):\n",
    "    print(i,end=\" \")"
   ]
  },
  {
   "cell_type": "markdown",
   "id": "61c09339",
   "metadata": {},
   "source": [
    "### using loop method multiplication"
   ]
  },
  {
   "cell_type": "code",
   "execution_count": 6,
   "id": "4a87c26f",
   "metadata": {},
   "outputs": [
    {
     "name": "stdout",
     "output_type": "stream",
     "text": [
      "12\n"
     ]
    }
   ],
   "source": [
    "def multiply(a,b):\n",
    "    result = 0\n",
    "    for i in range(b):\n",
    "        result=result+a\n",
    "    print(result)\n",
    "multiply(3,4)"
   ]
  },
  {
   "cell_type": "markdown",
   "id": "20671e22",
   "metadata": {},
   "source": [
    "###  using recursive method multiplication"
   ]
  },
  {
   "cell_type": "code",
   "execution_count": 7,
   "id": "19522f33",
   "metadata": {},
   "outputs": [
    {
     "name": "stdout",
     "output_type": "stream",
     "text": [
      "20\n"
     ]
    }
   ],
   "source": [
    "def multiply(a,b):\n",
    "    if b==1:\n",
    "        return a\n",
    "    else:\n",
    "        return a+multiply(a,b-1)\n",
    "print(multiply(5,4))"
   ]
  },
  {
   "cell_type": "markdown",
   "id": "196a0a3e",
   "metadata": {},
   "source": [
    "###  using recursive method factorial"
   ]
  },
  {
   "cell_type": "code",
   "execution_count": 1,
   "id": "a44b8e04",
   "metadata": {},
   "outputs": [
    {
     "name": "stdout",
     "output_type": "stream",
     "text": [
      "120\n"
     ]
    }
   ],
   "source": [
    "def fac(a):\n",
    "    if a==1:\n",
    "        return 1\n",
    "    else:\n",
    "        return a*fac(a-1)\n",
    "print(fac(5))"
   ]
  },
  {
   "cell_type": "code",
   "execution_count": 2,
   "id": "c181f86d",
   "metadata": {},
   "outputs": [
    {
     "name": "stdout",
     "output_type": "stream",
     "text": [
      "120\n"
     ]
    }
   ],
   "source": [
    "def fac(a):\n",
    "    if a==1:\n",
    "        return a\n",
    "    else:\n",
    "        return a*fac(a-1)\n",
    "print(fac(5))"
   ]
  },
  {
   "cell_type": "markdown",
   "id": "5b4bf857",
   "metadata": {},
   "source": [
    "###  palindron"
   ]
  },
  {
   "cell_type": "markdown",
   "id": "93f39473",
   "metadata": {},
   "source": [
    "# logic\n",
    "###  length of string ==1\n",
    "# 0r\n",
    "# madam first and last string same - cancel\n",
    "# ada first and last string same - cancel\n",
    "# d is palindron"
   ]
  },
  {
   "cell_type": "code",
   "execution_count": 4,
   "id": "94d0a163",
   "metadata": {},
   "outputs": [
    {
     "name": "stdout",
     "output_type": "stream",
     "text": [
      "palindrome\n",
      "palindrome\n",
      "not a palin\n",
      "palindrome\n"
     ]
    }
   ],
   "source": [
    "def palin(text):\n",
    "    if len(text)<=1:\n",
    "        print(\"palindrome\")\n",
    "    else:\n",
    "        if text[0]==text[-1]:\n",
    "            palin(text[1:-1])\n",
    "        else:\n",
    "            print(\"not a palin\")\n",
    "palin(\"madam\")\n",
    "palin(\"malayalam\")\n",
    "palin(\"python\")\n",
    "palin(\"abba\")"
   ]
  },
  {
   "cell_type": "markdown",
   "id": "4e216521",
   "metadata": {},
   "source": [
    "###  the rabbit problem fibonacci"
   ]
  },
  {
   "cell_type": "code",
   "execution_count": 5,
   "id": "90caeacf",
   "metadata": {},
   "outputs": [
    {
     "name": "stdout",
     "output_type": "stream",
     "text": [
      "5\n"
     ]
    }
   ],
   "source": [
    "def fib(m):\n",
    "    if m==0 or m==1:\n",
    "        return 1\n",
    "    else:\n",
    "        return fib(m-1) + fib(m-2)\n",
    "print(fib(4))"
   ]
  },
  {
   "cell_type": "code",
   "execution_count": 8,
   "id": "65eeab9e",
   "metadata": {},
   "outputs": [
    {
     "name": "stdout",
     "output_type": "stream",
     "text": [
      "233\n",
      "0.007998943328857422\n"
     ]
    }
   ],
   "source": [
    "import time\n",
    "def fib(m):\n",
    "    if m==0 or m==1:\n",
    "        return 1\n",
    "    else:\n",
    "        return fib(m-1) + fib(m-2)\n",
    "start = time.time()    \n",
    "print(fib(12))\n",
    "print(time.time()-start) # how many time"
   ]
  },
  {
   "cell_type": "markdown",
   "id": "8aee3da8",
   "metadata": {},
   "source": [
    "###  OR"
   ]
  },
  {
   "cell_type": "code",
   "execution_count": 15,
   "id": "69c38b9c",
   "metadata": {},
   "outputs": [
    {
     "name": "stdout",
     "output_type": "stream",
     "text": [
      "8\n",
      "0.0\n"
     ]
    }
   ],
   "source": [
    "import time\n",
    "def fib(m,d):\n",
    "    if m in d:\n",
    "        return d[m]\n",
    "    else:\n",
    "        d[m] = fib(m-1,d)+fib(m-2,d)\n",
    "        return d[m]\n",
    "start = time.time()\n",
    "d = {0:1,1:1}\n",
    "print(fib(5,d))\n",
    "print(time.time()-start)"
   ]
  },
  {
   "cell_type": "markdown",
   "id": "c67d62c1",
   "metadata": {},
   "source": [
    "###  recursion question practice"
   ]
  },
  {
   "cell_type": "markdown",
   "id": "e38158bd",
   "metadata": {},
   "source": [
    "###  finding the power of a number"
   ]
  },
  {
   "cell_type": "code",
   "execution_count": 2,
   "id": "f20c2a93",
   "metadata": {},
   "outputs": [
    {
     "name": "stdout",
     "output_type": "stream",
     "text": [
      "enter the base value:2\n",
      "enter the exponent value:4\n",
      "the result is: 16\n"
     ]
    }
   ],
   "source": [
    "def power(base,exp):\n",
    "    if exp==1:\n",
    "        return base\n",
    "    else:\n",
    "        return base*(power(base,exp-1))\n",
    "b=int(input(\"enter the base value:\"))\n",
    "e=int(input(\"enter the exponent value:\"))\n",
    "print(\"the result is:\",power(b,e))"
   ]
  },
  {
   "cell_type": "code",
   "execution_count": 3,
   "id": "bc99a0ef",
   "metadata": {},
   "outputs": [
    {
     "name": "stdout",
     "output_type": "stream",
     "text": [
      "enter the base value:2\n",
      "enter the exponent value:1\n",
      "the result is: 2\n"
     ]
    }
   ],
   "source": [
    "def power(base,exp):\n",
    "    if exp==1:\n",
    "        return base\n",
    "    else:\n",
    "        return base*(power(base,exp-1))\n",
    "b=int(input(\"enter the base value:\"))\n",
    "e=int(input(\"enter the exponent value:\"))\n",
    "print(\"the result is:\",power(b,e))"
   ]
  },
  {
   "cell_type": "code",
   "execution_count": 4,
   "id": "22e9a1af",
   "metadata": {},
   "outputs": [
    {
     "name": "stdout",
     "output_type": "stream",
     "text": [
      "the result is: 16\n"
     ]
    }
   ],
   "source": [
    "def power(base,exp):\n",
    "    if exp==1:\n",
    "        return base\n",
    "    else:\n",
    "        return base*(power(base,exp-1))\n",
    "b=2\n",
    "e=4\n",
    "print(\"the result is:\",power(b,e))"
   ]
  },
  {
   "cell_type": "markdown",
   "id": "8d98903b",
   "metadata": {},
   "source": [
    "###  find combination"
   ]
  },
  {
   "cell_type": "code",
   "execution_count": 2,
   "id": "4c611e68",
   "metadata": {},
   "outputs": [
    {
     "name": "stdout",
     "output_type": "stream",
     "text": [
      "3.0\n"
     ]
    }
   ],
   "source": [
    "def fact(n):\n",
    "    if (n==1):\n",
    "        return n\n",
    "    else:\n",
    "        return n*(fact(n-1))\n",
    "def combination(n,r):\n",
    "    return fact(n)/(fact(r)*fact(n-r))\n",
    "n=3\n",
    "r=2\n",
    "print(combination(n,r))\n",
    "    "
   ]
  },
  {
   "cell_type": "code",
   "execution_count": null,
   "id": "4178841a",
   "metadata": {},
   "outputs": [],
   "source": []
  }
 ],
 "metadata": {
  "kernelspec": {
   "display_name": "Python 3 (ipykernel)",
   "language": "python",
   "name": "python3"
  },
  "language_info": {
   "codemirror_mode": {
    "name": "ipython",
    "version": 3
   },
   "file_extension": ".py",
   "mimetype": "text/x-python",
   "name": "python",
   "nbconvert_exporter": "python",
   "pygments_lexer": "ipython3",
   "version": "3.9.12"
  }
 },
 "nbformat": 4,
 "nbformat_minor": 5
}
